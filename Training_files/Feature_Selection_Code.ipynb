{
 "cells": [
  {
   "cell_type": "code",
   "execution_count": null,
   "id": "bb8be9a4-7d9b-4b65-b887-f982ae110d57",
   "metadata": {},
   "outputs": [],
   "source": [
    "import numpy as np\n",
    "import pandas as pd \n",
    "data=pd.read_csv('path_to_calulated_descriptors_csv_file')\n",
    "data=data.drop(columns=data.columns[0], axis=1)\n",
    "Y=data[\"Class\"]\n",
    "X=data.drop(columns=data.columns[-1], axis=1)\n"
   ]
  },
  {
   "cell_type": "code",
   "execution_count": null,
   "id": "a63c0406-db02-4528-a1ae-091b9b2ef181",
   "metadata": {},
   "outputs": [],
   "source": [
    "# zerovariance removed\n",
    "\n",
    "from sklearn.feature_selection import VarianceThreshold\n",
    "selector = VarianceThreshold(threshold=0)\n",
    "\n",
    "selector.fit(X)\n",
    "\n",
    "# Get support (boolean mask of features that are retained)\n",
    "mask = selector.get_support()\n",
    "\n",
    "# Filter out features with zero variance\n",
    "X_filtered = X.loc[:, mask]\n"
   ]
  },
  {
   "cell_type": "code",
   "execution_count": null,
   "id": "5e87cb2e-9128-4829-9b5b-ea0e78dc9d4a",
   "metadata": {},
   "outputs": [],
   "source": [
    "# Standard scaler\n",
    "\n",
    "from sklearn.preprocessing import StandardScaler\n",
    "scaler = StandardScaler()\n",
    "X_scaled_1 = scaler.fit_transform(X_filtered)\n",
    "\n",
    "X_scaled = pd.DataFrame(X_scaled_1, columns=X_filtered.columns)\n",
    "X_scaled['Label'] = Y"
   ]
  },
  {
   "cell_type": "code",
   "execution_count": null,
   "id": "d6664fd2-1f7c-4e61-90f6-a147c54eb6aa",
   "metadata": {},
   "outputs": [],
   "source": [
    "# Remove_Correlation\n",
    "\n",
    "correlation_matrix = X_scaled.corr().abs()['Label']\n",
    "\n",
    "high_corr_mask = correlation_matrix > 0.85\n",
    "\n",
    "dropped_columns = set()\n",
    "for col in X_scaled.columns:\n",
    "    if high_corr_mask[col] and col != 'Label':\n",
    "        dropped_columns.add(col)\n",
    "            \n",
    "X_corr_removed = X_scaled.drop(columns=dropped_columns)\n",
    "X_corr_unlabelled=X_corr_removed.drop(columns=X_corr_removed.columns[-1], axis=1)\n"
   ]
  },
  {
   "cell_type": "code",
   "execution_count": null,
   "id": "fdc33181-937b-41f7-9663-c0dcefc251d7",
   "metadata": {},
   "outputs": [],
   "source": [
    "# Train Test Split\n",
    "from sklearn.model_selection import train_test_split\n",
    "X_train, X_test, y_train, y_test = train_test_split(X_corr_unlabelled, Y, test_size=0.2, random_state=1)"
   ]
  },
  {
   "cell_type": "code",
   "execution_count": null,
   "id": "8126cf05-a322-4017-a22f-953afe58eafa",
   "metadata": {},
   "outputs": [],
   "source": [
    "X_train['Label']=y_train\n",
    "X_test['Label']=y_test"
   ]
  },
  {
   "cell_type": "code",
   "execution_count": null,
   "id": "2e1ff345-dec9-4804-b2ab-6e1955b7d79e",
   "metadata": {},
   "outputs": [],
   "source": [
    "#Boruta\n",
    "\n",
    "eature_names = X_corr_unlabelled.columns\n",
    "from sklearn.ensemble import RandomForestClassifier \n",
    "from boruta import BorutaPy\n",
    "\n",
    "# Create BorutaPy instance\n",
    "\n",
    "# Initialize RandomForestClassifier\n",
    "forest = RandomForestClassifier(n_jobs=-1, class_weight='balanced', max_depth=5, n_estimators=40)\n",
    "\n",
    "# Initialize Boruta\n",
    "feat_selector = BorutaPy(forest, n_estimators='auto', verbose=3, random_state=1, max_iter=100, perc=90)\n",
    "\n",
    "# train Boruta\n",
    "# N.B.: X and y must be numpy arrays\n",
    "feat_selector.fit(np.array(X_train), np.array(y_train))\n",
    "\n",
    "# Print support and ranking for each feature\n",
    "print(\"\\n------Support and Ranking for each feature------\")\n",
    "rank_1_features = []\n",
    "for i in range(len(feat_selector.support_)):\n",
    "    print(f\"{feature_names[i]} - Rank: {feat_selector.ranking_[i]}\", end='')\n",
    "    if feat_selector.ranking_[i] == 1:\n",
    "        print(\" - Passes the test and has rank 1\")\n",
    "        rank_1_features.append(feature_names[i])\n",
    "    else:\n",
    "        print(\" - Doesn't pass the rank 1 test\")\n",
    "\n",
    "# Now, rank_1_features contains the names of all features that have rank 1\n",
    "print(\"\\nFeatures with Rank 1:\", rank_1_features)\n",
    "\n",
    "# To use these rank 1 features for further modeling:\n",
    "# Convert feature names back to indices to use with pandas DataFrame if necessary\n",
    "rank_1_indices = [feature_names.tolist().index(f) for f in rank_1_features]\n",
    "\n",
    "# Selecting rank 1 features for your training and test set\n",
    "X_train_feat = X_train.iloc[:, rank_1_indices]\n",
    "X_test_feat = X_test.iloc[:, rank_1_indices]\n"
   ]
  },
  {
   "cell_type": "code",
   "execution_count": null,
   "id": "4aed11ce-5c97-44ed-9c3d-e6876e3a23bd",
   "metadata": {},
   "outputs": [],
   "source": [
    "X_train_feat['Label']=y_train\n",
    "X_test_feat['Label']=y_test"
   ]
  },
  {
   "cell_type": "code",
   "execution_count": null,
   "id": "9cf0e2b0-2b43-4240-9914-aaeaea45c513",
   "metadata": {},
   "outputs": [],
   "source": [
    "X_train_feat.to_csv('X_train.csv')\n",
    "X_test_feat.to_csv('X_test.csv')"
   ]
  }
 ],
 "metadata": {
  "kernelspec": {
   "display_name": "Python 3 (ipykernel)",
   "language": "python",
   "name": "python3"
  },
  "language_info": {
   "codemirror_mode": {
    "name": "ipython",
    "version": 3
   },
   "file_extension": ".py",
   "mimetype": "text/x-python",
   "name": "python",
   "nbconvert_exporter": "python",
   "pygments_lexer": "ipython3",
   "version": "3.10.0"
  }
 },
 "nbformat": 4,
 "nbformat_minor": 5
}
